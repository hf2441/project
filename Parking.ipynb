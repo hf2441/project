{
 "cells": [
  {
   "cell_type": "code",
   "execution_count": 2,
   "metadata": {},
   "outputs": [],
   "source": [
    "import pandas as pd #import packages needed\n",
    "#df=pd.read_csv('311_Service_Requests_2020.csv',nrows=10000)\n",
    "df=pd.read_csv('311_Service_Requests_2020.csv',low_memory=False)#read the file"
   ]
  },
  {
   "cell_type": "code",
   "execution_count": 3,
   "metadata": {},
   "outputs": [
    {
     "data": {
      "text/plain": [
       "False"
      ]
     },
     "execution_count": 3,
     "metadata": {},
     "output_type": "execute_result"
    }
   ],
   "source": [
    "columns=df.columns.tolist()#get the columns' names\n",
    "ICall=df[[columns[5],columns[8]]]#Slimming file with only zipcode and incident types\n",
    "IPall=ICall[ICall['Complaint Type']=='Illegal Parking']#obtain all illegal parking incidents\n",
    "IP=IPall[IPall['Incident Zip']==10027]#obtain illegal parking incidents in 10027 area\n",
    "IC=ICall[ICall['Incident Zip']==10027]#obtain all incidents in 10027 area\n",
    "higher_parking_proportion=len(IP)/len(IC) > len(IPall)/len(ICall)#calculate the fractions and make comparison\n",
    "higher_parking_proportion"
   ]
  },
  {
   "cell_type": "code",
   "execution_count": null,
   "metadata": {},
   "outputs": [],
   "source": []
  }
 ],
 "metadata": {
  "kernelspec": {
   "display_name": "Python 3",
   "language": "python",
   "name": "python3"
  },
  "language_info": {
   "codemirror_mode": {
    "name": "ipython",
    "version": 3
   },
   "file_extension": ".py",
   "mimetype": "text/x-python",
   "name": "python",
   "nbconvert_exporter": "python",
   "pygments_lexer": "ipython3",
   "version": "3.8.5"
  }
 },
 "nbformat": 4,
 "nbformat_minor": 4
}
